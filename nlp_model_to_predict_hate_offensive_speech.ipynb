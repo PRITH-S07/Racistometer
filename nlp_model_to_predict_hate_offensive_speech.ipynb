{
  "nbformat": 4,
  "nbformat_minor": 0,
  "metadata": {
    "kernelspec": {
      "display_name": "Python 3",
      "language": "python",
      "name": "python3"
    },
    "language_info": {
      "codemirror_mode": {
        "name": "ipython",
        "version": 3
      },
      "file_extension": ".py",
      "mimetype": "text/x-python",
      "name": "python",
      "nbconvert_exporter": "python",
      "pygments_lexer": "ipython3",
      "version": "3.7.6"
    },
    "papermill": {
      "duration": 77.954538,
      "end_time": "2020-08-13T23:48:08.161736",
      "environment_variables": {},
      "exception": null,
      "input_path": "__notebook__.ipynb",
      "output_path": "__notebook__.ipynb",
      "parameters": {},
      "start_time": "2020-08-13T23:46:50.207198",
      "version": "2.1.0"
    },
    "colab": {
      "name": "nlp-model-to-predict-hate-speech.ipynb",
      "provenance": []
    }
  },
  "cells": [
    {
      "cell_type": "markdown",
      "metadata": {
        "papermill": {
          "duration": 0.011387,
          "end_time": "2020-08-13T23:46:55.520585",
          "exception": false,
          "start_time": "2020-08-13T23:46:55.509198",
          "status": "completed"
        },
        "tags": [],
        "id": "8_nTpzcfwdAA"
      },
      "source": [
        "# Importing the libraries"
      ]
    },
    {
      "cell_type": "code",
      "metadata": {
        "_cell_guid": "b1076dfc-b9ad-4769-8c92-a6c4dae69d19",
        "_uuid": "8f2839f25d086af736a60e9eeb907d3b93b6e0e5",
        "execution": {
          "iopub.execute_input": "2020-08-13T23:46:55.552978Z",
          "iopub.status.busy": "2020-08-13T23:46:55.552178Z",
          "iopub.status.idle": "2020-08-13T23:46:58.494388Z",
          "shell.execute_reply": "2020-08-13T23:46:58.493367Z"
        },
        "papermill": {
          "duration": 2.964254,
          "end_time": "2020-08-13T23:46:58.494567",
          "exception": false,
          "start_time": "2020-08-13T23:46:55.530313",
          "status": "completed"
        },
        "tags": [],
        "colab": {
          "base_uri": "https://localhost:8080/"
        },
        "id": "nN2AZ3dXwdAL",
        "outputId": "605cfb5d-c58d-455c-d3ff-0f35f105ebbb"
      },
      "source": [
        "import numpy as np # linear algebra\n",
        "import pandas as pd # data processing, CSV file I/O (e.g. pd.read_csv)\n",
        "import matplotlib.pyplot as plt\n",
        "from wordcloud import WordCloud\n",
        "from sklearn.compose import ColumnTransformer\n",
        "from sklearn.preprocessing import OneHotEncoder\n",
        "import re\n",
        "import nltk\n",
        "nltk.download('stopwords')\n",
        "from nltk.corpus import stopwords\n",
        "from nltk.stem.porter import PorterStemmer\n",
        "from sklearn.feature_extraction.text import CountVectorizer\n",
        "from sklearn.model_selection import train_test_split\n",
        "from sklearn.ensemble import RandomForestClassifier\n",
        "from sklearn.linear_model import LogisticRegression\n",
        "from sklearn.neighbors import KNeighborsClassifier\n",
        "from sklearn.tree import DecisionTreeClassifier\n",
        "from sklearn.naive_bayes import GaussianNB\n",
        "from sklearn.metrics import confusion_matrix, accuracy_score\n",
        "import os"
      ],
      "execution_count": 1,
      "outputs": [
        {
          "output_type": "stream",
          "name": "stdout",
          "text": [
            "[nltk_data] Downloading package stopwords to /root/nltk_data...\n",
            "[nltk_data]   Unzipping corpora/stopwords.zip.\n"
          ]
        }
      ]
    },
    {
      "cell_type": "markdown",
      "metadata": {
        "papermill": {
          "duration": 0.008938,
          "end_time": "2020-08-13T23:46:58.513637",
          "exception": false,
          "start_time": "2020-08-13T23:46:58.504699",
          "status": "completed"
        },
        "tags": [],
        "id": "ZFPswbvSwdAQ"
      },
      "source": [
        "# Importing the dataset"
      ]
    },
    {
      "cell_type": "code",
      "metadata": {
        "_cell_guid": "79c7e3d0-c299-4dcb-8224-4455121ee9b0",
        "_uuid": "d629ff2d2480ee46fbb7e2d37f6b5fab8052498a",
        "execution": {
          "iopub.execute_input": "2020-08-13T23:46:58.548488Z",
          "iopub.status.busy": "2020-08-13T23:46:58.547712Z",
          "iopub.status.idle": "2020-08-13T23:46:58.645024Z",
          "shell.execute_reply": "2020-08-13T23:46:58.644307Z"
        },
        "papermill": {
          "duration": 0.120801,
          "end_time": "2020-08-13T23:46:58.645146",
          "exception": false,
          "start_time": "2020-08-13T23:46:58.524345",
          "status": "completed"
        },
        "tags": [],
        "colab": {
          "base_uri": "https://localhost:8080/",
          "height": 206
        },
        "id": "vKXA3aK5wdAS",
        "outputId": "535cb46c-eb4f-4cac-da4a-828d7416ec21"
      },
      "source": [
        "dataset = pd.read_csv('/content/labeled_data.csv')\n",
        "dataset.head()"
      ],
      "execution_count": 2,
      "outputs": [
        {
          "output_type": "execute_result",
          "data": {
            "text/html": [
              "<div>\n",
              "<style scoped>\n",
              "    .dataframe tbody tr th:only-of-type {\n",
              "        vertical-align: middle;\n",
              "    }\n",
              "\n",
              "    .dataframe tbody tr th {\n",
              "        vertical-align: top;\n",
              "    }\n",
              "\n",
              "    .dataframe thead th {\n",
              "        text-align: right;\n",
              "    }\n",
              "</style>\n",
              "<table border=\"1\" class=\"dataframe\">\n",
              "  <thead>\n",
              "    <tr style=\"text-align: right;\">\n",
              "      <th></th>\n",
              "      <th>Unnamed: 0</th>\n",
              "      <th>count</th>\n",
              "      <th>hate_speech</th>\n",
              "      <th>offensive_language</th>\n",
              "      <th>neither</th>\n",
              "      <th>class</th>\n",
              "      <th>tweet</th>\n",
              "    </tr>\n",
              "  </thead>\n",
              "  <tbody>\n",
              "    <tr>\n",
              "      <th>0</th>\n",
              "      <td>0</td>\n",
              "      <td>3</td>\n",
              "      <td>0</td>\n",
              "      <td>0</td>\n",
              "      <td>3</td>\n",
              "      <td>2</td>\n",
              "      <td>!!! RT @mayasolovely: As a woman you shouldn't...</td>\n",
              "    </tr>\n",
              "    <tr>\n",
              "      <th>1</th>\n",
              "      <td>1</td>\n",
              "      <td>3</td>\n",
              "      <td>0</td>\n",
              "      <td>3</td>\n",
              "      <td>0</td>\n",
              "      <td>1</td>\n",
              "      <td>!!!!! RT @mleew17: boy dats cold...tyga dwn ba...</td>\n",
              "    </tr>\n",
              "    <tr>\n",
              "      <th>2</th>\n",
              "      <td>2</td>\n",
              "      <td>3</td>\n",
              "      <td>0</td>\n",
              "      <td>3</td>\n",
              "      <td>0</td>\n",
              "      <td>1</td>\n",
              "      <td>!!!!!!! RT @UrKindOfBrand Dawg!!!! RT @80sbaby...</td>\n",
              "    </tr>\n",
              "    <tr>\n",
              "      <th>3</th>\n",
              "      <td>3</td>\n",
              "      <td>3</td>\n",
              "      <td>0</td>\n",
              "      <td>2</td>\n",
              "      <td>1</td>\n",
              "      <td>1</td>\n",
              "      <td>!!!!!!!!! RT @C_G_Anderson: @viva_based she lo...</td>\n",
              "    </tr>\n",
              "    <tr>\n",
              "      <th>4</th>\n",
              "      <td>4</td>\n",
              "      <td>6</td>\n",
              "      <td>0</td>\n",
              "      <td>6</td>\n",
              "      <td>0</td>\n",
              "      <td>1</td>\n",
              "      <td>!!!!!!!!!!!!! RT @ShenikaRoberts: The shit you...</td>\n",
              "    </tr>\n",
              "  </tbody>\n",
              "</table>\n",
              "</div>"
            ],
            "text/plain": [
              "   Unnamed: 0  count  ...  class                                              tweet\n",
              "0           0      3  ...      2  !!! RT @mayasolovely: As a woman you shouldn't...\n",
              "1           1      3  ...      1  !!!!! RT @mleew17: boy dats cold...tyga dwn ba...\n",
              "2           2      3  ...      1  !!!!!!! RT @UrKindOfBrand Dawg!!!! RT @80sbaby...\n",
              "3           3      3  ...      1  !!!!!!!!! RT @C_G_Anderson: @viva_based she lo...\n",
              "4           4      6  ...      1  !!!!!!!!!!!!! RT @ShenikaRoberts: The shit you...\n",
              "\n",
              "[5 rows x 7 columns]"
            ]
          },
          "metadata": {},
          "execution_count": 2
        }
      ]
    },
    {
      "cell_type": "code",
      "metadata": {
        "execution": {
          "iopub.execute_input": "2020-08-13T23:46:58.674907Z",
          "iopub.status.busy": "2020-08-13T23:46:58.673810Z",
          "iopub.status.idle": "2020-08-13T23:46:58.692514Z",
          "shell.execute_reply": "2020-08-13T23:46:58.691509Z"
        },
        "papermill": {
          "duration": 0.037691,
          "end_time": "2020-08-13T23:46:58.692690",
          "exception": false,
          "start_time": "2020-08-13T23:46:58.654999",
          "status": "completed"
        },
        "tags": [],
        "colab": {
          "base_uri": "https://localhost:8080/"
        },
        "id": "PsaT9VZNwdAT",
        "outputId": "6d257800-77b2-4cfb-cb2d-d41d33c977a2"
      },
      "source": [
        "dataset.info()"
      ],
      "execution_count": 3,
      "outputs": [
        {
          "output_type": "stream",
          "name": "stdout",
          "text": [
            "<class 'pandas.core.frame.DataFrame'>\n",
            "RangeIndex: 24783 entries, 0 to 24782\n",
            "Data columns (total 7 columns):\n",
            " #   Column              Non-Null Count  Dtype \n",
            "---  ------              --------------  ----- \n",
            " 0   Unnamed: 0          24783 non-null  int64 \n",
            " 1   count               24783 non-null  int64 \n",
            " 2   hate_speech         24783 non-null  int64 \n",
            " 3   offensive_language  24783 non-null  int64 \n",
            " 4   neither             24783 non-null  int64 \n",
            " 5   class               24783 non-null  int64 \n",
            " 6   tweet               24783 non-null  object\n",
            "dtypes: int64(6), object(1)\n",
            "memory usage: 1.3+ MB\n"
          ]
        }
      ]
    },
    {
      "cell_type": "code",
      "metadata": {
        "execution": {
          "iopub.execute_input": "2020-08-13T23:46:58.724247Z",
          "iopub.status.busy": "2020-08-13T23:46:58.723490Z",
          "iopub.status.idle": "2020-08-13T23:46:58.760743Z",
          "shell.execute_reply": "2020-08-13T23:46:58.759959Z"
        },
        "papermill": {
          "duration": 0.057127,
          "end_time": "2020-08-13T23:46:58.760915",
          "exception": false,
          "start_time": "2020-08-13T23:46:58.703788",
          "status": "completed"
        },
        "tags": [],
        "colab": {
          "base_uri": "https://localhost:8080/",
          "height": 237
        },
        "id": "HTksIzRPwdAU",
        "outputId": "417b1cb9-0ed1-4b5d-cddd-98fc522175fc"
      },
      "source": [
        "dataset.describe().T"
      ],
      "execution_count": 4,
      "outputs": [
        {
          "output_type": "execute_result",
          "data": {
            "text/html": [
              "<div>\n",
              "<style scoped>\n",
              "    .dataframe tbody tr th:only-of-type {\n",
              "        vertical-align: middle;\n",
              "    }\n",
              "\n",
              "    .dataframe tbody tr th {\n",
              "        vertical-align: top;\n",
              "    }\n",
              "\n",
              "    .dataframe thead th {\n",
              "        text-align: right;\n",
              "    }\n",
              "</style>\n",
              "<table border=\"1\" class=\"dataframe\">\n",
              "  <thead>\n",
              "    <tr style=\"text-align: right;\">\n",
              "      <th></th>\n",
              "      <th>count</th>\n",
              "      <th>mean</th>\n",
              "      <th>std</th>\n",
              "      <th>min</th>\n",
              "      <th>25%</th>\n",
              "      <th>50%</th>\n",
              "      <th>75%</th>\n",
              "      <th>max</th>\n",
              "    </tr>\n",
              "  </thead>\n",
              "  <tbody>\n",
              "    <tr>\n",
              "      <th>Unnamed: 0</th>\n",
              "      <td>24783.0</td>\n",
              "      <td>12681.192027</td>\n",
              "      <td>7299.553863</td>\n",
              "      <td>0.0</td>\n",
              "      <td>6372.5</td>\n",
              "      <td>12703.0</td>\n",
              "      <td>18995.5</td>\n",
              "      <td>25296.0</td>\n",
              "    </tr>\n",
              "    <tr>\n",
              "      <th>count</th>\n",
              "      <td>24783.0</td>\n",
              "      <td>3.243473</td>\n",
              "      <td>0.883060</td>\n",
              "      <td>3.0</td>\n",
              "      <td>3.0</td>\n",
              "      <td>3.0</td>\n",
              "      <td>3.0</td>\n",
              "      <td>9.0</td>\n",
              "    </tr>\n",
              "    <tr>\n",
              "      <th>hate_speech</th>\n",
              "      <td>24783.0</td>\n",
              "      <td>0.280515</td>\n",
              "      <td>0.631851</td>\n",
              "      <td>0.0</td>\n",
              "      <td>0.0</td>\n",
              "      <td>0.0</td>\n",
              "      <td>0.0</td>\n",
              "      <td>7.0</td>\n",
              "    </tr>\n",
              "    <tr>\n",
              "      <th>offensive_language</th>\n",
              "      <td>24783.0</td>\n",
              "      <td>2.413711</td>\n",
              "      <td>1.399459</td>\n",
              "      <td>0.0</td>\n",
              "      <td>2.0</td>\n",
              "      <td>3.0</td>\n",
              "      <td>3.0</td>\n",
              "      <td>9.0</td>\n",
              "    </tr>\n",
              "    <tr>\n",
              "      <th>neither</th>\n",
              "      <td>24783.0</td>\n",
              "      <td>0.549247</td>\n",
              "      <td>1.113299</td>\n",
              "      <td>0.0</td>\n",
              "      <td>0.0</td>\n",
              "      <td>0.0</td>\n",
              "      <td>0.0</td>\n",
              "      <td>9.0</td>\n",
              "    </tr>\n",
              "    <tr>\n",
              "      <th>class</th>\n",
              "      <td>24783.0</td>\n",
              "      <td>1.110277</td>\n",
              "      <td>0.462089</td>\n",
              "      <td>0.0</td>\n",
              "      <td>1.0</td>\n",
              "      <td>1.0</td>\n",
              "      <td>1.0</td>\n",
              "      <td>2.0</td>\n",
              "    </tr>\n",
              "  </tbody>\n",
              "</table>\n",
              "</div>"
            ],
            "text/plain": [
              "                      count          mean  ...      75%      max\n",
              "Unnamed: 0          24783.0  12681.192027  ...  18995.5  25296.0\n",
              "count               24783.0      3.243473  ...      3.0      9.0\n",
              "hate_speech         24783.0      0.280515  ...      0.0      7.0\n",
              "offensive_language  24783.0      2.413711  ...      3.0      9.0\n",
              "neither             24783.0      0.549247  ...      0.0      9.0\n",
              "class               24783.0      1.110277  ...      1.0      2.0\n",
              "\n",
              "[6 rows x 8 columns]"
            ]
          },
          "metadata": {},
          "execution_count": 4
        }
      ]
    },
    {
      "cell_type": "code",
      "metadata": {
        "execution": {
          "iopub.execute_input": "2020-08-13T23:46:58.790832Z",
          "iopub.status.busy": "2020-08-13T23:46:58.790055Z",
          "iopub.status.idle": "2020-08-13T23:46:58.793447Z",
          "shell.execute_reply": "2020-08-13T23:46:58.792686Z"
        },
        "papermill": {
          "duration": 0.022235,
          "end_time": "2020-08-13T23:46:58.793578",
          "exception": false,
          "start_time": "2020-08-13T23:46:58.771343",
          "status": "completed"
        },
        "tags": [],
        "id": "LugYhtHbwdAV"
      },
      "source": [
        "dt_trasformed = dataset[['class', 'tweet']]\n",
        "y = dt_trasformed.iloc[:, :-1].values"
      ],
      "execution_count": 5,
      "outputs": []
    },
    {
      "cell_type": "code",
      "metadata": {
        "colab": {
          "base_uri": "https://localhost:8080/"
        },
        "id": "EF4RIR-K0u3l",
        "outputId": "051b2855-a268-4977-d43f-b0c39f42fda2"
      },
      "source": [
        "print(y)"
      ],
      "execution_count": 6,
      "outputs": [
        {
          "output_type": "stream",
          "name": "stdout",
          "text": [
            "[[2]\n",
            " [1]\n",
            " [1]\n",
            " ...\n",
            " [1]\n",
            " [1]\n",
            " [2]]\n"
          ]
        }
      ]
    },
    {
      "cell_type": "markdown",
      "metadata": {
        "papermill": {
          "duration": 0.009795,
          "end_time": "2020-08-13T23:46:58.813593",
          "exception": false,
          "start_time": "2020-08-13T23:46:58.803798",
          "status": "completed"
        },
        "tags": [],
        "id": "9MW_KEJOwdAX"
      },
      "source": [
        "### Encoding the Dependent Variable"
      ]
    },
    {
      "cell_type": "code",
      "metadata": {
        "execution": {
          "iopub.execute_input": "2020-08-13T23:46:58.841624Z",
          "iopub.status.busy": "2020-08-13T23:46:58.840799Z",
          "iopub.status.idle": "2020-08-13T23:46:58.847492Z",
          "shell.execute_reply": "2020-08-13T23:46:58.846723Z"
        },
        "papermill": {
          "duration": 0.023878,
          "end_time": "2020-08-13T23:46:58.847617",
          "exception": false,
          "start_time": "2020-08-13T23:46:58.823739",
          "status": "completed"
        },
        "tags": [],
        "id": "GMXUMUpkwdAY"
      },
      "source": [
        "ct = ColumnTransformer(transformers=[('encoder', OneHotEncoder(), [0])], remainder='passthrough')\n",
        "y = np.array(ct.fit_transform(y))"
      ],
      "execution_count": 7,
      "outputs": []
    },
    {
      "cell_type": "code",
      "metadata": {
        "execution": {
          "iopub.execute_input": "2020-08-13T23:46:58.874726Z",
          "iopub.status.busy": "2020-08-13T23:46:58.873671Z",
          "iopub.status.idle": "2020-08-13T23:46:58.878278Z",
          "shell.execute_reply": "2020-08-13T23:46:58.877236Z"
        },
        "papermill": {
          "duration": 0.020675,
          "end_time": "2020-08-13T23:46:58.878430",
          "exception": false,
          "start_time": "2020-08-13T23:46:58.857755",
          "status": "completed"
        },
        "tags": [],
        "colab": {
          "base_uri": "https://localhost:8080/"
        },
        "id": "-c_KYC71wdAa",
        "outputId": "6b6d663b-08e7-494c-db77-9d551d378a81"
      },
      "source": [
        "print(y)"
      ],
      "execution_count": 8,
      "outputs": [
        {
          "output_type": "stream",
          "name": "stdout",
          "text": [
            "[[0. 0. 1.]\n",
            " [0. 1. 0.]\n",
            " [0. 1. 0.]\n",
            " ...\n",
            " [0. 1. 0.]\n",
            " [0. 1. 0.]\n",
            " [0. 0. 1.]]\n"
          ]
        }
      ]
    },
    {
      "cell_type": "markdown",
      "metadata": {
        "papermill": {
          "duration": 0.010411,
          "end_time": "2020-08-13T23:46:58.899224",
          "exception": false,
          "start_time": "2020-08-13T23:46:58.888813",
          "status": "completed"
        },
        "tags": [],
        "id": "EWrD7sZbwdAc"
      },
      "source": [
        "I separated this y in two variables that we will use to fit hate speech models and offensive speech models"
      ]
    },
    {
      "cell_type": "code",
      "metadata": {
        "execution": {
          "iopub.execute_input": "2020-08-13T23:46:58.927967Z",
          "iopub.status.busy": "2020-08-13T23:46:58.926906Z",
          "iopub.status.idle": "2020-08-13T23:46:58.930684Z",
          "shell.execute_reply": "2020-08-13T23:46:58.929917Z"
        },
        "papermill": {
          "duration": 0.021161,
          "end_time": "2020-08-13T23:46:58.930821",
          "exception": false,
          "start_time": "2020-08-13T23:46:58.909660",
          "status": "completed"
        },
        "tags": [],
        "id": "xhimu30QwdAc"
      },
      "source": [
        "y_df = pd.DataFrame(y)\n",
        "y_hate = np.array(y_df[0])\n",
        "y_offensive = np.array(y_df[1])"
      ],
      "execution_count": 9,
      "outputs": []
    },
    {
      "cell_type": "code",
      "metadata": {
        "execution": {
          "iopub.execute_input": "2020-08-13T23:46:58.958415Z",
          "iopub.status.busy": "2020-08-13T23:46:58.957342Z",
          "iopub.status.idle": "2020-08-13T23:46:58.961159Z",
          "shell.execute_reply": "2020-08-13T23:46:58.961948Z"
        },
        "papermill": {
          "duration": 0.020828,
          "end_time": "2020-08-13T23:46:58.962157",
          "exception": false,
          "start_time": "2020-08-13T23:46:58.941329",
          "status": "completed"
        },
        "tags": [],
        "colab": {
          "base_uri": "https://localhost:8080/"
        },
        "id": "Zzi3d0dIwdAd",
        "outputId": "97d22029-07af-4c42-9991-2b72afa7ba79"
      },
      "source": [
        "print(y_hate)\n",
        "print(y_offensive)"
      ],
      "execution_count": 10,
      "outputs": [
        {
          "output_type": "stream",
          "name": "stdout",
          "text": [
            "[0. 0. 0. ... 0. 0. 0.]\n",
            "[0. 1. 1. ... 1. 1. 0.]\n"
          ]
        }
      ]
    },
    {
      "cell_type": "markdown",
      "metadata": {
        "papermill": {
          "duration": 0.010475,
          "end_time": "2020-08-13T23:46:58.984046",
          "exception": false,
          "start_time": "2020-08-13T23:46:58.973571",
          "status": "completed"
        },
        "tags": [],
        "id": "GMK9efhlwdAe"
      },
      "source": [
        "## Cleaning the texts"
      ]
    },
    {
      "cell_type": "code",
      "metadata": {
        "execution": {
          "iopub.execute_input": "2020-08-13T23:46:59.016541Z",
          "iopub.status.busy": "2020-08-13T23:46:59.015732Z",
          "iopub.status.idle": "2020-08-13T23:47:15.641333Z",
          "shell.execute_reply": "2020-08-13T23:47:15.640430Z"
        },
        "papermill": {
          "duration": 16.646924,
          "end_time": "2020-08-13T23:47:15.641480",
          "exception": false,
          "start_time": "2020-08-13T23:46:58.994556",
          "status": "completed"
        },
        "tags": [],
        "id": "j43iJH5ywdAf"
      },
      "source": [
        "corpus = []\n",
        "for i in range(0, 24783):\n",
        "  review = re.sub('[^a-zA-Z]', ' ', dt_trasformed['tweet'][i])\n",
        "  review = review.lower()\n",
        "  review = review.split()\n",
        "  ps = PorterStemmer()\n",
        "  all_stopwords = stopwords.words('english')\n",
        "  all_stopwords.remove('not')\n",
        "  review = [ps.stem(word) for word in review if not word in set(all_stopwords)]\n",
        "  review = ' '.join(review)\n",
        "  corpus.append(review)"
      ],
      "execution_count": 11,
      "outputs": []
    },
    {
      "cell_type": "code",
      "metadata": {
        "execution": {
          "iopub.execute_input": "2020-08-13T23:47:15.677811Z",
          "iopub.status.busy": "2020-08-13T23:47:15.672656Z",
          "iopub.status.idle": "2020-08-13T23:47:16.667426Z",
          "shell.execute_reply": "2020-08-13T23:47:16.666628Z"
        },
        "papermill": {
          "duration": 1.014686,
          "end_time": "2020-08-13T23:47:16.667557",
          "exception": false,
          "start_time": "2020-08-13T23:47:15.652871",
          "status": "completed"
        },
        "tags": [],
        "id": "gJNDUCeXwdAg"
      },
      "source": [
        "cv = CountVectorizer(max_features = 2000)\n",
        "X = cv.fit_transform(corpus).toarray()"
      ],
      "execution_count": 12,
      "outputs": []
    },
    {
      "cell_type": "markdown",
      "metadata": {
        "papermill": {
          "duration": 0.010336,
          "end_time": "2020-08-13T23:47:16.688579",
          "exception": false,
          "start_time": "2020-08-13T23:47:16.678243",
          "status": "completed"
        },
        "tags": [],
        "id": "GofAsGkQwdAg"
      },
      "source": [
        "## Splitting the dataset into the Training set and Test set"
      ]
    },
    {
      "cell_type": "code",
      "metadata": {
        "execution": {
          "iopub.execute_input": "2020-08-13T23:47:16.718139Z",
          "iopub.status.busy": "2020-08-13T23:47:16.717337Z",
          "iopub.status.idle": "2020-08-13T23:47:17.120438Z",
          "shell.execute_reply": "2020-08-13T23:47:17.119711Z"
        },
        "papermill": {
          "duration": 0.421119,
          "end_time": "2020-08-13T23:47:17.120630",
          "exception": false,
          "start_time": "2020-08-13T23:47:16.699511",
          "status": "completed"
        },
        "tags": [],
        "id": "W1fv2GokwdAh"
      },
      "source": [
        "X_train, X_test, y_train, y_test = train_test_split(X, y_hate, test_size = 0.20, random_state = 0)"
      ],
      "execution_count": 13,
      "outputs": []
    },
    {
      "cell_type": "markdown",
      "metadata": {
        "papermill": {
          "duration": 0.010329,
          "end_time": "2020-08-13T23:47:17.141774",
          "exception": false,
          "start_time": "2020-08-13T23:47:17.131445",
          "status": "completed"
        },
        "tags": [],
        "id": "t-FUWjpMwdAh"
      },
      "source": [
        "## Finding the best models to predict hate speech"
      ]
    },
    {
      "cell_type": "markdown",
      "metadata": {
        "papermill": {
          "duration": 0.010174,
          "end_time": "2020-08-13T23:47:17.162747",
          "exception": false,
          "start_time": "2020-08-13T23:47:17.152573",
          "status": "completed"
        },
        "tags": [],
        "id": "AOcy1GstwdAi"
      },
      "source": [
        "**Naive Bayes**"
      ]
    },
    {
      "cell_type": "code",
      "metadata": {
        "execution": {
          "iopub.execute_input": "2020-08-13T23:47:17.190189Z",
          "iopub.status.busy": "2020-08-13T23:47:17.189373Z",
          "iopub.status.idle": "2020-08-13T23:47:18.329740Z",
          "shell.execute_reply": "2020-08-13T23:47:18.328929Z"
        },
        "papermill": {
          "duration": 1.156549,
          "end_time": "2020-08-13T23:47:18.329872",
          "exception": false,
          "start_time": "2020-08-13T23:47:17.173323",
          "status": "completed"
        },
        "tags": [],
        "colab": {
          "base_uri": "https://localhost:8080/"
        },
        "id": "6_J3PItEwdAj",
        "outputId": "9a368238-9b42-4303-a628-fa133015ce07"
      },
      "source": [
        "classifier_np = GaussianNB()\n",
        "classifier_np.fit(X_train, y_train)"
      ],
      "execution_count": 14,
      "outputs": [
        {
          "output_type": "execute_result",
          "data": {
            "text/plain": [
              "GaussianNB()"
            ]
          },
          "metadata": {},
          "execution_count": 14
        }
      ]
    },
    {
      "cell_type": "markdown",
      "metadata": {
        "papermill": {
          "duration": 0.010681,
          "end_time": "2020-08-13T23:47:18.351929",
          "exception": false,
          "start_time": "2020-08-13T23:47:18.341248",
          "status": "completed"
        },
        "tags": [],
        "id": "biT7bUyrwdAj"
      },
      "source": [
        "**Decision Tree**"
      ]
    },
    {
      "cell_type": "code",
      "metadata": {
        "execution": {
          "iopub.execute_input": "2020-08-13T23:47:18.380990Z",
          "iopub.status.busy": "2020-08-13T23:47:18.380019Z",
          "iopub.status.idle": "2020-08-13T23:47:43.404236Z",
          "shell.execute_reply": "2020-08-13T23:47:43.403421Z"
        },
        "papermill": {
          "duration": 25.041085,
          "end_time": "2020-08-13T23:47:43.404420",
          "exception": false,
          "start_time": "2020-08-13T23:47:18.363335",
          "status": "completed"
        },
        "tags": [],
        "colab": {
          "base_uri": "https://localhost:8080/"
        },
        "id": "mtBABv19wdAk",
        "outputId": "b7212e49-4b07-4c11-ebd1-f7d0d674e174"
      },
      "source": [
        "classifier_dt = DecisionTreeClassifier(criterion = 'entropy', random_state = 0)\n",
        "classifier_dt.fit(X_train, y_train)"
      ],
      "execution_count": 15,
      "outputs": [
        {
          "output_type": "execute_result",
          "data": {
            "text/plain": [
              "DecisionTreeClassifier(criterion='entropy', random_state=0)"
            ]
          },
          "metadata": {},
          "execution_count": 15
        }
      ]
    },
    {
      "cell_type": "markdown",
      "metadata": {
        "papermill": {
          "duration": 0.011213,
          "end_time": "2020-08-13T23:47:43.428245",
          "exception": false,
          "start_time": "2020-08-13T23:47:43.417032",
          "status": "completed"
        },
        "tags": [],
        "id": "26FdhzkqwdAk"
      },
      "source": [
        "**KNN**"
      ]
    },
    {
      "cell_type": "code",
      "metadata": {
        "execution": {
          "iopub.execute_input": "2020-08-13T23:47:43.460186Z",
          "iopub.status.busy": "2020-08-13T23:47:43.459283Z",
          "iopub.status.idle": "2020-08-13T23:47:52.498915Z",
          "shell.execute_reply": "2020-08-13T23:47:52.498102Z"
        },
        "papermill": {
          "duration": 9.059056,
          "end_time": "2020-08-13T23:47:52.499065",
          "exception": false,
          "start_time": "2020-08-13T23:47:43.440009",
          "status": "completed"
        },
        "tags": [],
        "colab": {
          "base_uri": "https://localhost:8080/"
        },
        "id": "GG0vx-LtwdAl",
        "outputId": "f46b27ad-1aba-4c66-881b-0b750ab382c4"
      },
      "source": [
        "classifier_knn = KNeighborsClassifier(n_neighbors = 5, metric = 'minkowski', p = 2)\n",
        "classifier_knn.fit(X_train, y_train)"
      ],
      "execution_count": 16,
      "outputs": [
        {
          "output_type": "execute_result",
          "data": {
            "text/plain": [
              "KNeighborsClassifier()"
            ]
          },
          "metadata": {},
          "execution_count": 16
        }
      ]
    },
    {
      "cell_type": "markdown",
      "metadata": {
        "papermill": {
          "duration": 0.011434,
          "end_time": "2020-08-13T23:47:52.522920",
          "exception": false,
          "start_time": "2020-08-13T23:47:52.511486",
          "status": "completed"
        },
        "tags": [],
        "id": "cjBLKtXuwdAl"
      },
      "source": [
        "**Logistic Regression**"
      ]
    },
    {
      "cell_type": "code",
      "metadata": {
        "execution": {
          "iopub.execute_input": "2020-08-13T23:47:52.555855Z",
          "iopub.status.busy": "2020-08-13T23:47:52.554308Z",
          "iopub.status.idle": "2020-08-13T23:47:57.369662Z",
          "shell.execute_reply": "2020-08-13T23:47:57.370412Z"
        },
        "papermill": {
          "duration": 4.835791,
          "end_time": "2020-08-13T23:47:57.370629",
          "exception": false,
          "start_time": "2020-08-13T23:47:52.534838",
          "status": "completed"
        },
        "tags": [],
        "colab": {
          "base_uri": "https://localhost:8080/"
        },
        "id": "No2jz7qPwdAl",
        "outputId": "1cae9161-3853-4b38-b05b-14df22cda342"
      },
      "source": [
        "classifier_lr = LogisticRegression(random_state = 0)\n",
        "classifier_lr.fit(X_train, y_train)"
      ],
      "execution_count": 17,
      "outputs": [
        {
          "output_type": "execute_result",
          "data": {
            "text/plain": [
              "LogisticRegression(random_state=0)"
            ]
          },
          "metadata": {},
          "execution_count": 17
        }
      ]
    },
    {
      "cell_type": "markdown",
      "metadata": {
        "papermill": {
          "duration": 0.012018,
          "end_time": "2020-08-13T23:47:57.395198",
          "exception": false,
          "start_time": "2020-08-13T23:47:57.383180",
          "status": "completed"
        },
        "tags": [],
        "id": "yF_fWF_-wdAm"
      },
      "source": [
        "**Random Forest**"
      ]
    },
    {
      "cell_type": "code",
      "metadata": {
        "execution": {
          "iopub.execute_input": "2020-08-13T23:47:57.428950Z",
          "iopub.status.busy": "2020-08-13T23:47:57.427892Z",
          "iopub.status.idle": "2020-08-13T23:48:07.269866Z",
          "shell.execute_reply": "2020-08-13T23:48:07.269136Z"
        },
        "papermill": {
          "duration": 9.862223,
          "end_time": "2020-08-13T23:48:07.270027",
          "exception": false,
          "start_time": "2020-08-13T23:47:57.407804",
          "status": "completed"
        },
        "tags": [],
        "colab": {
          "base_uri": "https://localhost:8080/"
        },
        "id": "dWZE7raYwdAm",
        "outputId": "93eed074-2803-429d-bb59-e7f8cd6cedf3"
      },
      "source": [
        "classifier_rf = RandomForestClassifier(n_estimators = 10, criterion = 'entropy', random_state = 0)\n",
        "classifier_rf.fit(X_train, y_train)"
      ],
      "execution_count": 18,
      "outputs": [
        {
          "output_type": "execute_result",
          "data": {
            "text/plain": [
              "RandomForestClassifier(criterion='entropy', n_estimators=10, random_state=0)"
            ]
          },
          "metadata": {},
          "execution_count": 18
        }
      ]
    },
    {
      "cell_type": "markdown",
      "metadata": {
        "papermill": {
          "duration": 0.012414,
          "end_time": "2020-08-13T23:48:07.295285",
          "exception": false,
          "start_time": "2020-08-13T23:48:07.282871",
          "status": "completed"
        },
        "tags": [],
        "id": "AjSMqRxowdAn"
      },
      "source": [
        "# Making the Confusion Matrix for each model"
      ]
    },
    {
      "cell_type": "code",
      "metadata": {
        "execution": {
          "iopub.execute_input": "2020-08-13T23:48:07.330653Z",
          "iopub.status.busy": "2020-08-13T23:48:07.328544Z",
          "iopub.status.idle": "2020-08-13T23:48:07.599272Z",
          "shell.execute_reply": "2020-08-13T23:48:07.598547Z"
        },
        "papermill": {
          "duration": 0.291418,
          "end_time": "2020-08-13T23:48:07.599450",
          "exception": false,
          "start_time": "2020-08-13T23:48:07.308032",
          "status": "completed"
        },
        "tags": [],
        "colab": {
          "base_uri": "https://localhost:8080/"
        },
        "id": "yBPBZIH0wdAn",
        "outputId": "e110c175-988b-44bb-f81f-40c2cbb221ac"
      },
      "source": [
        "#Naive Bayes\n",
        "y_pred_np = classifier_np.predict(X_test)\n",
        "cm = confusion_matrix(y_test, y_pred_np)\n",
        "print(cm)"
      ],
      "execution_count": 19,
      "outputs": [
        {
          "output_type": "stream",
          "name": "stdout",
          "text": [
            "[[1969 2709]\n",
            " [  90  189]]\n"
          ]
        }
      ]
    },
    {
      "cell_type": "code",
      "metadata": {
        "execution": {
          "iopub.execute_input": "2020-08-13T23:48:07.633046Z",
          "iopub.status.busy": "2020-08-13T23:48:07.632043Z",
          "iopub.status.idle": "2020-08-13T23:48:07.695558Z",
          "shell.execute_reply": "2020-08-13T23:48:07.694109Z"
        },
        "papermill": {
          "duration": 0.083098,
          "end_time": "2020-08-13T23:48:07.695780",
          "exception": false,
          "start_time": "2020-08-13T23:48:07.612682",
          "status": "completed"
        },
        "tags": [],
        "colab": {
          "base_uri": "https://localhost:8080/"
        },
        "id": "j_69pv_CwdAn",
        "outputId": "c1e45b02-8a2b-472d-da94-4b262ecf80e2"
      },
      "source": [
        "#Decision Tree\n",
        "y_pred_dt = classifier_dt.predict(X_test)\n",
        "cm = confusion_matrix(y_test, y_pred_dt)\n",
        "print(cm)"
      ],
      "execution_count": 20,
      "outputs": [
        {
          "output_type": "stream",
          "name": "stdout",
          "text": [
            "[[4455  223]\n",
            " [ 188   91]]\n"
          ]
        }
      ]
    },
    {
      "cell_type": "code",
      "metadata": {
        "execution": {
          "iopub.execute_input": "2020-08-13T23:48:07.732387Z",
          "iopub.status.busy": "2020-08-13T23:48:07.730580Z",
          "iopub.status.idle": "2020-08-13T23:48:07.795954Z",
          "shell.execute_reply": "2020-08-13T23:48:07.794796Z"
        },
        "papermill": {
          "duration": 0.086581,
          "end_time": "2020-08-13T23:48:07.796113",
          "exception": false,
          "start_time": "2020-08-13T23:48:07.709532",
          "status": "completed"
        },
        "tags": [],
        "colab": {
          "base_uri": "https://localhost:8080/"
        },
        "id": "2h0pcv8nwdAo",
        "outputId": "ca0a109b-746e-4d88-c16f-25d82d2046e3"
      },
      "source": [
        "#Linear Regression\n",
        "y_pred_lr = classifier_lr.predict(X_test)\n",
        "cm = confusion_matrix(y_test, y_pred_lr)\n",
        "print(cm)"
      ],
      "execution_count": 21,
      "outputs": [
        {
          "output_type": "stream",
          "name": "stdout",
          "text": [
            "[[4614   64]\n",
            " [ 229   50]]\n"
          ]
        }
      ]
    },
    {
      "cell_type": "code",
      "metadata": {
        "execution": {
          "iopub.execute_input": "2020-08-13T23:48:07.830625Z",
          "iopub.status.busy": "2020-08-13T23:48:07.829732Z",
          "iopub.status.idle": "2020-08-13T23:48:07.962667Z",
          "shell.execute_reply": "2020-08-13T23:48:07.961066Z"
        },
        "papermill": {
          "duration": 0.153355,
          "end_time": "2020-08-13T23:48:07.962903",
          "exception": false,
          "start_time": "2020-08-13T23:48:07.809548",
          "status": "completed"
        },
        "tags": [],
        "colab": {
          "base_uri": "https://localhost:8080/"
        },
        "id": "RPORBN1LwdAo",
        "outputId": "2738ae48-c553-4c16-94bd-75661372e489"
      },
      "source": [
        "#Random Forest\n",
        "y_pred_rf = classifier_rf.predict(X_test)\n",
        "cm = confusion_matrix(y_test, y_pred_rf)\n",
        "print(cm)"
      ],
      "execution_count": 22,
      "outputs": [
        {
          "output_type": "stream",
          "name": "stdout",
          "text": [
            "[[4586   92]\n",
            " [ 213   66]]\n"
          ]
        }
      ]
    },
    {
      "cell_type": "code",
      "metadata": {
        "execution": {
          "iopub.execute_input": "2020-08-13T23:48:08.001346Z",
          "iopub.status.busy": "2020-08-13T23:48:08.000460Z",
          "iopub.status.idle": "2020-08-13T23:48:08.011019Z",
          "shell.execute_reply": "2020-08-13T23:48:08.009760Z"
        },
        "papermill": {
          "duration": 0.032469,
          "end_time": "2020-08-13T23:48:08.011199",
          "exception": false,
          "start_time": "2020-08-13T23:48:07.978730",
          "status": "completed"
        },
        "tags": [],
        "colab": {
          "base_uri": "https://localhost:8080/"
        },
        "id": "RAi7PUhdwdAp",
        "outputId": "b4ca8cb5-5d9c-4a44-e19e-bbb2d567a1dc"
      },
      "source": [
        "rf_score = accuracy_score(y_test, y_pred_rf)\n",
        "lr_score = accuracy_score(y_test, y_pred_lr)\n",
        "dt_score = accuracy_score(y_test, y_pred_dt)\n",
        "np_score = accuracy_score(y_test, y_pred_np)\n",
        "\n",
        "print('Random Forest Accuracy: ', str(rf_score))\n",
        "print('Linear Regression Accuracy: ', str(lr_score))\n",
        "print('Decision Tree Accuracy: ', str(dt_score))\n",
        "print('Naive Bayes Accuracy: ', str(np_score))"
      ],
      "execution_count": 23,
      "outputs": [
        {
          "output_type": "stream",
          "name": "stdout",
          "text": [
            "Random Forest Accuracy:  0.9384708493040145\n",
            "Linear Regression Accuracy:  0.940891668347791\n",
            "Decision Tree Accuracy:  0.9170869477506557\n",
            "Naive Bayes Accuracy:  0.43534395803913656\n"
          ]
        }
      ]
    },
    {
      "cell_type": "code",
      "metadata": {
        "colab": {
          "base_uri": "https://localhost:8080/"
        },
        "id": "J9QNFT00xQWB",
        "outputId": "453f058d-a62f-452f-d1f8-ef581ce8164a"
      },
      "source": [
        "import joblib\n",
        "\n",
        "# Save the model as a pickle in a file\n",
        "joblib.dump(classifier_lr, 'classifier_lr_hate.pkl')\n",
        "\n",
        "# Load the model from the file\n",
        "classifier_lr_hate_from_joblib = joblib.load('classifier_lr_hate.pkl')\n",
        "\n",
        "# Use the loaded model to make predictions\n",
        "classifier_lr_hate_from_joblib.predict(X_test[:2])"
      ],
      "execution_count": 24,
      "outputs": [
        {
          "output_type": "execute_result",
          "data": {
            "text/plain": [
              "array([0., 0.])"
            ]
          },
          "metadata": {},
          "execution_count": 24
        }
      ]
    },
    {
      "cell_type": "markdown",
      "metadata": {
        "id": "1bF94XkbyIKP"
      },
      "source": [
        "## Finding best models to predict offensive speech"
      ]
    },
    {
      "cell_type": "code",
      "metadata": {
        "id": "7V5s1MGFzWS5"
      },
      "source": [
        "X_train_off, X_test_off, y_train_off, y_test_off = train_test_split(X, y_offensive, test_size = 0.20, random_state = 0)"
      ],
      "execution_count": 25,
      "outputs": []
    },
    {
      "cell_type": "markdown",
      "metadata": {
        "id": "qZ0LSwfdyXn1"
      },
      "source": [
        "### Naive Bayes"
      ]
    },
    {
      "cell_type": "code",
      "metadata": {
        "colab": {
          "base_uri": "https://localhost:8080/"
        },
        "id": "ozlqYiNfxWKJ",
        "outputId": "b2b9aebd-9f34-4b83-bd9a-d6e3ec00913c"
      },
      "source": [
        "classifier_np_off = GaussianNB()\n",
        "classifier_np_off.fit(X_train_off, y_train_off)"
      ],
      "execution_count": 26,
      "outputs": [
        {
          "output_type": "execute_result",
          "data": {
            "text/plain": [
              "GaussianNB()"
            ]
          },
          "metadata": {},
          "execution_count": 26
        }
      ]
    },
    {
      "cell_type": "markdown",
      "metadata": {
        "id": "a13IOnOhygQw"
      },
      "source": [
        "### Decision Trees"
      ]
    },
    {
      "cell_type": "code",
      "metadata": {
        "colab": {
          "base_uri": "https://localhost:8080/"
        },
        "id": "0drvC4B_yawh",
        "outputId": "bcb01302-d001-4372-db39-f94367028e6d"
      },
      "source": [
        "classifier_dt_off = DecisionTreeClassifier(criterion = 'entropy', random_state = 0)\n",
        "classifier_dt_off.fit(X_train_off, y_train_off)"
      ],
      "execution_count": 27,
      "outputs": [
        {
          "output_type": "execute_result",
          "data": {
            "text/plain": [
              "DecisionTreeClassifier(criterion='entropy', random_state=0)"
            ]
          },
          "metadata": {},
          "execution_count": 27
        }
      ]
    },
    {
      "cell_type": "markdown",
      "metadata": {
        "id": "A5oNqlSVyoCz"
      },
      "source": [
        "### KNN"
      ]
    },
    {
      "cell_type": "code",
      "metadata": {
        "colab": {
          "base_uri": "https://localhost:8080/"
        },
        "id": "5bnB_2FXykkL",
        "outputId": "b9566b9e-b13a-45ad-b0fe-f61e095101c1"
      },
      "source": [
        "classifier_knn_off = KNeighborsClassifier(n_neighbors = 5, metric = 'minkowski', p = 2)\n",
        "classifier_knn_off.fit(X_train_off, y_train_off)"
      ],
      "execution_count": 28,
      "outputs": [
        {
          "output_type": "execute_result",
          "data": {
            "text/plain": [
              "KNeighborsClassifier()"
            ]
          },
          "metadata": {},
          "execution_count": 28
        }
      ]
    },
    {
      "cell_type": "markdown",
      "metadata": {
        "id": "JMgRp0gPyp8w"
      },
      "source": [
        "### Logistic Regression"
      ]
    },
    {
      "cell_type": "code",
      "metadata": {
        "colab": {
          "base_uri": "https://localhost:8080/"
        },
        "id": "mXzymGBpypf3",
        "outputId": "6e53ecf3-a410-4cb9-b5f0-b2b3d0afd0f6"
      },
      "source": [
        "classifier_lr_off = LogisticRegression(random_state = 0)\n",
        "classifier_lr_off.fit(X_train_off, y_train_off)"
      ],
      "execution_count": 29,
      "outputs": [
        {
          "output_type": "stream",
          "name": "stderr",
          "text": [
            "/usr/local/lib/python3.7/dist-packages/sklearn/linear_model/_logistic.py:818: ConvergenceWarning: lbfgs failed to converge (status=1):\n",
            "STOP: TOTAL NO. of ITERATIONS REACHED LIMIT.\n",
            "\n",
            "Increase the number of iterations (max_iter) or scale the data as shown in:\n",
            "    https://scikit-learn.org/stable/modules/preprocessing.html\n",
            "Please also refer to the documentation for alternative solver options:\n",
            "    https://scikit-learn.org/stable/modules/linear_model.html#logistic-regression\n",
            "  extra_warning_msg=_LOGISTIC_SOLVER_CONVERGENCE_MSG,\n"
          ]
        },
        {
          "output_type": "execute_result",
          "data": {
            "text/plain": [
              "LogisticRegression(random_state=0)"
            ]
          },
          "metadata": {},
          "execution_count": 29
        }
      ]
    },
    {
      "cell_type": "markdown",
      "metadata": {
        "id": "VmI34JUVyyOv"
      },
      "source": [
        "### Random Forest"
      ]
    },
    {
      "cell_type": "code",
      "metadata": {
        "colab": {
          "base_uri": "https://localhost:8080/"
        },
        "id": "WA4KqkHpywZ8",
        "outputId": "64c5decc-3786-45fa-b470-c0a7d6614f5e"
      },
      "source": [
        "classifier_rf_off = RandomForestClassifier(n_estimators = 10, criterion = 'entropy', random_state = 0)\n",
        "classifier_rf_off.fit(X_train_off, y_train_off)"
      ],
      "execution_count": 30,
      "outputs": [
        {
          "output_type": "execute_result",
          "data": {
            "text/plain": [
              "RandomForestClassifier(criterion='entropy', n_estimators=10, random_state=0)"
            ]
          },
          "metadata": {},
          "execution_count": 30
        }
      ]
    },
    {
      "cell_type": "markdown",
      "metadata": {
        "id": "kbV87iT2zAk8"
      },
      "source": [
        "## Confusion Matrix"
      ]
    },
    {
      "cell_type": "code",
      "metadata": {
        "colab": {
          "base_uri": "https://localhost:8080/"
        },
        "id": "5YUYxtxPyztx",
        "outputId": "cdd48e0c-36e5-43c8-ccd7-446db7d8b89d"
      },
      "source": [
        "#Naive Bayes\n",
        "y_pred_np_off = classifier_np_off.predict(X_test_off)\n",
        "cm = confusion_matrix(y_test, y_pred_np_off)\n",
        "print(cm)"
      ],
      "execution_count": 34,
      "outputs": [
        {
          "output_type": "stream",
          "name": "stdout",
          "text": [
            "[[3481 1197]\n",
            " [ 240   39]]\n"
          ]
        }
      ]
    },
    {
      "cell_type": "code",
      "metadata": {
        "colab": {
          "base_uri": "https://localhost:8080/"
        },
        "id": "3e3gc61UzJaK",
        "outputId": "05980fb3-a576-4f15-ff26-f851cb97f980"
      },
      "source": [
        "#Decision Tree\n",
        "y_pred_dt_off = classifier_dt_off.predict(X_test_off)\n",
        "cm = confusion_matrix(y_test, y_pred_dt_off)\n",
        "print(cm)"
      ],
      "execution_count": 35,
      "outputs": [
        {
          "output_type": "stream",
          "name": "stdout",
          "text": [
            "[[1056 3622]\n",
            " [ 122  157]]\n"
          ]
        }
      ]
    },
    {
      "cell_type": "code",
      "metadata": {
        "colab": {
          "base_uri": "https://localhost:8080/"
        },
        "id": "_UV8sDN_zO_S",
        "outputId": "b0a87f9e-4105-4df9-f0bf-8c94b81b9349"
      },
      "source": [
        "#Linear Regression\n",
        "y_pred_lr_off = classifier_lr.predict(X_test_off)\n",
        "cm = confusion_matrix(y_test, y_pred_lr_off)\n",
        "print(cm)"
      ],
      "execution_count": 37,
      "outputs": [
        {
          "output_type": "stream",
          "name": "stdout",
          "text": [
            "[[4614   64]\n",
            " [ 229   50]]\n"
          ]
        }
      ]
    },
    {
      "cell_type": "code",
      "metadata": {
        "colab": {
          "base_uri": "https://localhost:8080/"
        },
        "id": "r2Ot2SrJz1Il",
        "outputId": "ecc43b82-6148-494c-b7f0-65e5a1929799"
      },
      "source": [
        "#Random Forest\n",
        "y_pred_rf_off = classifier_rf.predict(X_test_off)\n",
        "cm = confusion_matrix(y_test, y_pred_rf_off)\n",
        "print(cm)"
      ],
      "execution_count": 38,
      "outputs": [
        {
          "output_type": "stream",
          "name": "stdout",
          "text": [
            "[[4586   92]\n",
            " [ 213   66]]\n"
          ]
        }
      ]
    },
    {
      "cell_type": "code",
      "metadata": {
        "colab": {
          "base_uri": "https://localhost:8080/"
        },
        "id": "1CJlumpEz-rI",
        "outputId": "592860f3-ab19-4382-a689-dd5cf9def7b4"
      },
      "source": [
        "rf_score = accuracy_score(y_test, y_pred_rf_off)\n",
        "lr_score = accuracy_score(y_test, y_pred_lr_off)\n",
        "dt_score = accuracy_score(y_test, y_pred_dt_off)\n",
        "np_score = accuracy_score(y_test, y_pred_np_off)\n",
        "\n",
        "print('Random Forest Accuracy: ', str(rf_score))\n",
        "print('Linear Regression Accuracy: ', str(lr_score))\n",
        "print('Decision Tree Accuracy: ', str(dt_score))\n",
        "print('Naive Bayes Accuracy: ', str(np_score))"
      ],
      "execution_count": 39,
      "outputs": [
        {
          "output_type": "stream",
          "name": "stdout",
          "text": [
            "Random Forest Accuracy:  0.9384708493040145\n",
            "Linear Regression Accuracy:  0.940891668347791\n",
            "Decision Tree Accuracy:  0.24470445834173896\n",
            "Naive Bayes Accuracy:  0.7101069195077668\n"
          ]
        }
      ]
    },
    {
      "cell_type": "code",
      "metadata": {
        "colab": {
          "base_uri": "https://localhost:8080/"
        },
        "id": "UPAw1WBM0InW",
        "outputId": "10a4070c-e1d2-4738-8717-caae7d432293"
      },
      "source": [
        "import joblib\n",
        "\n",
        "# Save the model as a pickle in a file\n",
        "joblib.dump(classifier_lr_off, 'classifier_lr_off.pkl')\n",
        "\n",
        "# Load the model from the file\n",
        "classifier_lr_hate_from_joblib = joblib.load('classifier_lr_off.pkl')\n",
        "\n",
        "# Use the loaded model to make predictions\n",
        "classifier_lr_hate_from_joblib.predict(X_test_off[:2])"
      ],
      "execution_count": 40,
      "outputs": [
        {
          "output_type": "execute_result",
          "data": {
            "text/plain": [
              "array([0., 1.])"
            ]
          },
          "metadata": {},
          "execution_count": 40
        }
      ]
    },
    {
      "cell_type": "code",
      "metadata": {
        "colab": {
          "base_uri": "https://localhost:8080/"
        },
        "id": "qxrL8bUz0VyT",
        "outputId": "fd5c5066-7711-4d76-fae6-cabfa6850cf8"
      },
      "source": [
        "y_test_off[:2]"
      ],
      "execution_count": 41,
      "outputs": [
        {
          "output_type": "execute_result",
          "data": {
            "text/plain": [
              "array([0., 1.])"
            ]
          },
          "metadata": {},
          "execution_count": 41
        }
      ]
    }
  ]
}